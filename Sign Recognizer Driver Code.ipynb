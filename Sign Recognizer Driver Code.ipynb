{
 "cells": [
  {
   "cell_type": "code",
   "execution_count": 1,
   "metadata": {},
   "outputs": [],
   "source": [
    "import tensorflow as tf\n",
    "import cv2\n",
    "import numpy as np"
   ]
  },
  {
   "cell_type": "code",
   "execution_count": 2,
   "metadata": {},
   "outputs": [],
   "source": [
    "image_shape = (64 , 64)"
   ]
  },
  {
   "cell_type": "code",
   "execution_count": 3,
   "metadata": {
    "scrolled": false
   },
   "outputs": [],
   "source": [
    "model = tf.keras.models.Sequential([\n",
    "          tf.keras.layers.experimental.preprocessing.Rescaling(1./255, input_shape=(image_shape[0], image_shape[1], 3)),\n",
    "                                    tf.keras.layers.Conv2D(32, (5,5), activation='relu'),\n",
    "                                    tf.keras.layers.MaxPool2D(2, 2),\n",
    "                                    tf.keras.layers.Conv2D(64, (3,3), activation='relu'),\n",
    "                                    tf.keras.layers.MaxPool2D(2, 2),\n",
    "                                    tf.keras.layers.Conv2D(128, (3,3), activation='relu'),\n",
    "                                    tf.keras.layers.MaxPool2D(2, 2),\n",
    "                                    tf.keras.layers.Flatten(),\n",
    "                                    tf.keras.layers.Dense(256, activation='relu'),\n",
    "                                    tf.keras.layers.Dropout(0.2),\n",
    "                                    tf.keras.layers.Dense(29, activation = 'softmax')\n",
    "])"
   ]
  },
  {
   "cell_type": "code",
   "execution_count": 4,
   "metadata": {},
   "outputs": [],
   "source": [
    "model.compile(optimizer='adam',\n",
    "              loss='sparse_categorical_crossentropy',\n",
    "              metrics=['acc'])"
   ]
  },
  {
   "cell_type": "code",
   "execution_count": 5,
   "metadata": {},
   "outputs": [],
   "source": [
    "model.load_weights('final_best_weights.h5')"
   ]
  },
  {
   "cell_type": "code",
   "execution_count": 6,
   "metadata": {},
   "outputs": [],
   "source": [
    "# Used to map prediction number to it's corresponding letter\n",
    "from string import ascii_lowercase\n",
    "dic = {i[0]: i[1] for i in enumerate(ascii_lowercase)}\n",
    "# Extra signs to help convert from live feed to text in the future\n",
    "dic[26] = 'delete'\n",
    "dic[27] = 'nothing'\n",
    "dic[28] = 'space'\n",
    "dic[29] = 'not sure'"
   ]
  },
  {
   "cell_type": "code",
   "execution_count": 7,
   "metadata": {},
   "outputs": [],
   "source": [
    "def predict_letter(test, certainity_threshold = 0.5):\n",
    "    img = cv2.resize(test, image_shape)\n",
    "    newimg = np.asarray(img)\n",
    "    pixels = newimg.astype('float32')\n",
    "\n",
    "    pixels = pixels.reshape(1, image_shape[0], image_shape[1] ,3 )\n",
    "    predict = model.predict(pixels)\n",
    "\n",
    "    letter_index = np.argmax(predict)\n",
    "    \n",
    "    if predict[0][letter_index] < certainity_threshold:  #if not certain\n",
    "        return 29 , None\n",
    "    else:\n",
    "        return letter_index, predict[0][letter_index]"
   ]
  },
  {
   "cell_type": "code",
   "execution_count": 11,
   "metadata": {
    "scrolled": false
   },
   "outputs": [
    {
     "data": {
      "text/plain": [
       "True"
      ]
     },
     "execution_count": 11,
     "metadata": {},
     "output_type": "execute_result"
    }
   ],
   "source": [
    "# set Width and Height of output Screen\n",
    "frameWidth = 480\n",
    "frameHeight = 480\n",
    "   \n",
    "# capturing Video from Webcam\n",
    "cap = cv2.VideoCapture(0)\n",
    "cap.set(3, frameWidth)\n",
    "cap.set(4, frameHeight)"
   ]
  },
  {
   "cell_type": "code",
   "execution_count": null,
   "metadata": {},
   "outputs": [],
   "source": [
    "ENTER_KEY_CODE = 13\n",
    "is_first_image = True\n",
    "box = None # Subset of the image that the model will check for sign in\n",
    "\n",
    "while True:\n",
    "    success, img = cap.read()\n",
    "    \n",
    "    if not success:\n",
    "        cv2.destroyAllWindows()\n",
    "        print(\"Couldn't Start cam, make sure to start the video capture\")\n",
    "        break\n",
    "        \n",
    "    if is_first_image:\n",
    "        box = cv2.selectROI('ROI', img, fromCenter = False)\n",
    "        is_first_image = False\n",
    "        cv2.destroyWindow('ROI')\n",
    "\n",
    "    # Vertices of bounding box\n",
    "    pt1 = box[:2]\n",
    "    pt2 = tuple((box[0] + box[2] ,box[1] + box[3]))\n",
    "    \n",
    "\n",
    "    prediction , certainity = predict_letter(img[pt1[1] : pt2[1], pt1[0]: pt2[0]] ,\n",
    "                                             certainity_threshold=0.6)\n",
    "    \n",
    "    if certainity == None:\n",
    "        text = 'Not Sure'\n",
    "    else:\n",
    "        certainity =  format(certainity * 100, '.2f')\n",
    "        text = dic[prediction] + ' , ' + str(certainity) + '%'\n",
    "    \n",
    "    font = cv2.FONT_HERSHEY_SIMPLEX\n",
    "    cv2.putText(img, text , (10,450), font, 1, (0, 255, 0), 2, cv2.LINE_AA)\n",
    "    cv2.putText(img, 'Press \"S\" to change bounding box',(frameWidth - 130, 435) , font, 0.5, (200, 0, 0), 1, cv2.LINE_AA)\n",
    "    cv2.putText(img, 'Press \"Enter\" to exit',(frameWidth - 130, 455) , font, 0.5, (200, 0, 0), 1, cv2.LINE_AA)\n",
    "    \n",
    "    \n",
    "    #draw boundary box\n",
    "    bounded = cv2.rectangle(img, pt1, pt2 ,(255, 0, 0) , 2)\n",
    "    cv2.imshow(\"Result\", bounded)\n",
    "    \n",
    "    key = cv2.waitKeyEx(1)\n",
    "    if key != -1:\n",
    "        if key == ord('s'): #Select ROI again\n",
    "            cv2.destroyWindow(\"Result\")\n",
    "            is_first_image = True\n",
    "        elif key == ENTER_KEY_CODE:\n",
    "            cv2.destroyWindow(\"Result\")\n",
    "            break\n",
    "        \n",
    "        \n",
    "    \n",
    "cap.release()\n",
    "cv2.destroyAllWindows()"
   ]
  },
  {
   "cell_type": "code",
   "execution_count": null,
   "metadata": {},
   "outputs": [],
   "source": []
  }
 ],
 "metadata": {
  "kernelspec": {
   "display_name": "Python 3",
   "language": "python",
   "name": "python3"
  },
  "language_info": {
   "codemirror_mode": {
    "name": "ipython",
    "version": 3
   },
   "file_extension": ".py",
   "mimetype": "text/x-python",
   "name": "python",
   "nbconvert_exporter": "python",
   "pygments_lexer": "ipython3",
   "version": "3.7.4"
  }
 },
 "nbformat": 4,
 "nbformat_minor": 2
}
