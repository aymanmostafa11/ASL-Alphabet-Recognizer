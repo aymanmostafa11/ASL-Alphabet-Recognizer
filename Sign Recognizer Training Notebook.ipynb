{
 "cells": [
  {
   "cell_type": "markdown",
   "metadata": {},
   "source": [
    "## The data trained on is provided from **Kaggle** and can be found at [ASL Alphabet](https://www.kaggle.com/grassknoted/asl-alphabet)"
   ]
  },
  {
   "cell_type": "code",
   "execution_count": 1,
   "metadata": {
    "execution": {
     "iopub.execute_input": "2021-08-30T21:20:53.906130Z",
     "iopub.status.busy": "2021-08-30T21:20:53.905682Z",
     "iopub.status.idle": "2021-08-30T21:20:58.424381Z",
     "shell.execute_reply": "2021-08-30T21:20:58.423490Z",
     "shell.execute_reply.started": "2021-08-30T21:20:53.906025Z"
    },
    "id": "GIXdYGDgbaMl"
   },
   "outputs": [],
   "source": [
    "import tensorflow as tf\n",
    "import cv2\n",
    "import numpy as np\n",
    "import pandas as pd\n",
    "from tensorflow.keras.preprocessing.image import ImageDataGenerator\n",
    "from keras.callbacks import ModelCheckpoint"
   ]
  },
  {
   "cell_type": "code",
   "execution_count": 2,
   "metadata": {
    "execution": {
     "iopub.execute_input": "2021-08-30T21:20:58.426091Z",
     "iopub.status.busy": "2021-08-30T21:20:58.425720Z",
     "iopub.status.idle": "2021-08-30T21:20:58.431772Z",
     "shell.execute_reply": "2021-08-30T21:20:58.430109Z",
     "shell.execute_reply.started": "2021-08-30T21:20:58.426045Z"
    }
   },
   "outputs": [],
   "source": [
    "image_shape = (64, 64)"
   ]
  },
  {
   "cell_type": "code",
   "execution_count": 3,
   "metadata": {
    "execution": {
     "iopub.execute_input": "2021-08-30T21:20:58.434485Z",
     "iopub.status.busy": "2021-08-30T21:20:58.434047Z",
     "iopub.status.idle": "2021-08-30T21:20:58.441006Z",
     "shell.execute_reply": "2021-08-30T21:20:58.440093Z",
     "shell.execute_reply.started": "2021-08-30T21:20:58.434448Z"
    }
   },
   "outputs": [],
   "source": [
    "Training_DIR = '../input/asl-alphabet/asl_alphabet_train/asl_alphabet_train/'"
   ]
  },
  {
   "cell_type": "code",
   "execution_count": 4,
   "metadata": {
    "execution": {
     "iopub.execute_input": "2021-08-30T21:20:58.442849Z",
     "iopub.status.busy": "2021-08-30T21:20:58.442411Z",
     "iopub.status.idle": "2021-08-30T21:21:57.040368Z",
     "shell.execute_reply": "2021-08-30T21:21:57.039494Z",
     "shell.execute_reply.started": "2021-08-30T21:20:58.442815Z"
    }
   },
   "outputs": [
    {
     "name": "stdout",
     "output_type": "stream",
     "text": [
      "Found 87000 files belonging to 29 classes.\n",
      "Using 69600 files for training.\n",
      "Found 87000 files belonging to 29 classes.\n",
      "Using 17400 files for validation.\n"
     ]
    }
   ],
   "source": [
    "train_generated = tf.keras.preprocessing.image_dataset_from_directory(\n",
    "    Training_DIR,\n",
    "    validation_split=0.2,\n",
    "    subset=\"training\",\n",
    "    seed = 20,\n",
    "    image_size= image_shape,\n",
    ")\n",
    "validation_generated = tf.keras.preprocessing.image_dataset_from_directory(\n",
    "    Training_DIR,\n",
    "    validation_split=0.2,\n",
    "    subset=\"validation\",\n",
    "    seed = 20,\n",
    "    image_size=image_shape,\n",
    ")"
   ]
  },
  {
   "cell_type": "code",
   "execution_count": 10,
   "metadata": {
    "execution": {
     "iopub.execute_input": "2021-08-30T21:22:39.707408Z",
     "iopub.status.busy": "2021-08-30T21:22:39.707079Z",
     "iopub.status.idle": "2021-08-30T21:22:39.772356Z",
     "shell.execute_reply": "2021-08-30T21:22:39.771600Z",
     "shell.execute_reply.started": "2021-08-30T21:22:39.707380Z"
    },
    "id": "OBNPVUK_qXvt"
   },
   "outputs": [],
   "source": [
    "model = tf.keras.models.Sequential([\n",
    "          tf.keras.layers.experimental.preprocessing.Rescaling(1./255, input_shape=(image_shape[0], image_shape[1], 3)),\n",
    "                                    tf.keras.layers.Conv2D(32, (5,5), activation='relu'),\n",
    "                                    tf.keras.layers.MaxPool2D(2, 2),\n",
    "                                    tf.keras.layers.Conv2D(64, (3,3), activation='relu'),\n",
    "                                    tf.keras.layers.MaxPool2D(2, 2),\n",
    "                                    tf.keras.layers.Conv2D(128, (3,3), activation='relu'),\n",
    "                                    tf.keras.layers.MaxPool2D(2, 2),\n",
    "                                    tf.keras.layers.Flatten(),\n",
    "                                    tf.keras.layers.Dense(256, activation='relu'),\n",
    "                                    tf.keras.layers.Dropout(0.2),\n",
    "                                    tf.keras.layers.Dense(29, activation = 'softmax')\n",
    "])"
   ]
  },
  {
   "cell_type": "code",
   "execution_count": 11,
   "metadata": {
    "execution": {
     "iopub.execute_input": "2021-08-30T21:22:40.220813Z",
     "iopub.status.busy": "2021-08-30T21:22:40.220521Z",
     "iopub.status.idle": "2021-08-30T21:22:40.233091Z",
     "shell.execute_reply": "2021-08-30T21:22:40.232115Z",
     "shell.execute_reply.started": "2021-08-30T21:22:40.220786Z"
    },
    "id": "asegtLZSq80h",
    "outputId": "e080f88a-b1a3-4ba2-e8a5-26e3287ac971"
   },
   "outputs": [
    {
     "name": "stdout",
     "output_type": "stream",
     "text": [
      "Model: \"sequential_1\"\n",
      "_________________________________________________________________\n",
      "Layer (type)                 Output Shape              Param #   \n",
      "=================================================================\n",
      "rescaling_1 (Rescaling)      (None, 64, 64, 3)         0         \n",
      "_________________________________________________________________\n",
      "conv2d_3 (Conv2D)            (None, 60, 60, 32)        2432      \n",
      "_________________________________________________________________\n",
      "max_pooling2d_3 (MaxPooling2 (None, 30, 30, 32)        0         \n",
      "_________________________________________________________________\n",
      "conv2d_4 (Conv2D)            (None, 28, 28, 64)        18496     \n",
      "_________________________________________________________________\n",
      "max_pooling2d_4 (MaxPooling2 (None, 14, 14, 64)        0         \n",
      "_________________________________________________________________\n",
      "conv2d_5 (Conv2D)            (None, 12, 12, 128)       73856     \n",
      "_________________________________________________________________\n",
      "max_pooling2d_5 (MaxPooling2 (None, 6, 6, 128)         0         \n",
      "_________________________________________________________________\n",
      "flatten_1 (Flatten)          (None, 4608)              0         \n",
      "_________________________________________________________________\n",
      "dense_2 (Dense)              (None, 256)               1179904   \n",
      "_________________________________________________________________\n",
      "dropout_1 (Dropout)          (None, 256)               0         \n",
      "_________________________________________________________________\n",
      "dense_3 (Dense)              (None, 29)                7453      \n",
      "=================================================================\n",
      "Total params: 1,282,141\n",
      "Trainable params: 1,282,141\n",
      "Non-trainable params: 0\n",
      "_________________________________________________________________\n"
     ]
    }
   ],
   "source": [
    "model.summary()"
   ]
  },
  {
   "cell_type": "code",
   "execution_count": 12,
   "metadata": {
    "execution": {
     "iopub.execute_input": "2021-08-30T21:22:40.640699Z",
     "iopub.status.busy": "2021-08-30T21:22:40.640411Z",
     "iopub.status.idle": "2021-08-30T21:22:40.653464Z",
     "shell.execute_reply": "2021-08-30T21:22:40.652537Z",
     "shell.execute_reply.started": "2021-08-30T21:22:40.640673Z"
    },
    "id": "fZt0JupGq-J6"
   },
   "outputs": [],
   "source": [
    "model.compile(optimizer='adam',\n",
    "              loss='sparse_categorical_crossentropy',\n",
    "              metrics=['acc'])"
   ]
  },
  {
   "cell_type": "code",
   "execution_count": 13,
   "metadata": {
    "execution": {
     "iopub.execute_input": "2021-08-30T21:22:41.318512Z",
     "iopub.status.busy": "2021-08-30T21:22:41.318172Z",
     "iopub.status.idle": "2021-08-30T21:22:41.322757Z",
     "shell.execute_reply": "2021-08-30T21:22:41.321759Z",
     "shell.execute_reply.started": "2021-08-30T21:22:41.318481Z"
    }
   },
   "outputs": [],
   "source": [
    "checkpoint = ModelCheckpoint('final_best_weights.h5', monitor='acc', verbose=1, save_best_only=True, mode='max')"
   ]
  },
  {
   "cell_type": "code",
   "execution_count": 14,
   "metadata": {
    "execution": {
     "iopub.execute_input": "2021-08-30T21:22:41.726970Z",
     "iopub.status.busy": "2021-08-30T21:22:41.726652Z",
     "iopub.status.idle": "2021-08-30T21:32:35.390000Z",
     "shell.execute_reply": "2021-08-30T21:32:35.389160Z",
     "shell.execute_reply.started": "2021-08-30T21:22:41.726939Z"
    },
    "id": "4C0L_rzarYeQ",
    "outputId": "c6e9e5d4-9d60-471f-9cb7-c98862a02de2"
   },
   "outputs": [
    {
     "name": "stdout",
     "output_type": "stream",
     "text": [
      "Epoch 1/2\n",
      "2175/2175 [==============================] - 477s 216ms/step - loss: 1.4333 - acc: 0.5713 - val_loss: 0.0796 - val_acc: 0.9752\n",
      "\n",
      "Epoch 00001: acc improved from -inf to 0.78428, saving model to final_best_weights.h5\n",
      "Epoch 2/2\n",
      "2175/2175 [==============================] - 116s 53ms/step - loss: 0.1188 - acc: 0.9613 - val_loss: 0.0321 - val_acc: 0.9921\n",
      "\n",
      "Epoch 00002: acc improved from 0.78428 to 0.96723, saving model to final_best_weights.h5\n"
     ]
    },
    {
     "data": {
      "text/plain": [
       "<tensorflow.python.keras.callbacks.History at 0x7fbba0d88c90>"
      ]
     },
     "execution_count": 14,
     "metadata": {},
     "output_type": "execute_result"
    }
   ],
   "source": [
    "model.fit(train_generated, epochs= 2, validation_data= validation_generated, callbacks = checkpoint)"
   ]
  },
  {
   "cell_type": "code",
   "execution_count": null,
   "metadata": {
    "id": "8yy6AsdmwHOz"
   },
   "outputs": [],
   "source": []
  }
 ],
 "metadata": {
  "kernelspec": {
   "display_name": "Python 3",
   "language": "python",
   "name": "python3"
  },
  "language_info": {
   "codemirror_mode": {
    "name": "ipython",
    "version": 3
   },
   "file_extension": ".py",
   "mimetype": "text/x-python",
   "name": "python",
   "nbconvert_exporter": "python",
   "pygments_lexer": "ipython3",
   "version": "3.7.4"
  }
 },
 "nbformat": 4,
 "nbformat_minor": 4
}
